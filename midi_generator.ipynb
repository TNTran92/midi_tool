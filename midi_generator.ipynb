{
 "cells": [
  {
   "cell_type": "markdown",
   "metadata": {},
   "source": [
    "Uswe mypython39-midi venv for this workbook"
   ]
  },
  {
   "cell_type": "code",
   "execution_count": 127,
   "metadata": {},
   "outputs": [
    {
     "name": "stdout",
     "output_type": "stream",
     "text": [
      "[55, 94, 40, 28, 43, 91, 83, 33, 38, 61, 53, 44, 35, 49, 36, 67, 96, 39, 74, 82]\n",
      "1\n",
      "2\n",
      "[[55, 56, 55, 57]]\n",
      "[[55, 56, 55, 57], [94, 95, 94, 96], [40, 41, 40, 42], [28, 29, 28, 30], [43, 44, 43, 45], [91, 92, 91, 93], [83, 84, 83, 85], [33, 34, 33, 35], [38, 39, 38, 40], [61, 62, 61, 63], [53, 54, 53, 55], [44, 45, 44, 46], [35, 36, 35, 37], [49, 50, 49, 51], [36, 37, 36, 38], [67, 68, 67, 69], [96, 97, 96, 98], [39, 40, 39, 41], [74, 75, 74, 76], [82, 83, 82, 84]]\n",
      "[['G3', 'G#3/Ab3', 'G3', 'A3'], ['A#6/Bb6', 'B6', 'A#6/Bb6', 'C7'], ['E2', 'F2', 'E2', 'F#2/Gb2'], ['E1', 'F1', 'E1', 'F#1/Gb1'], ['G2', 'G#2/Ab2', 'G2', 'A2'], ['G6', 'G#6/Ab6', 'G6', 'A6'], ['B5', 'C6', 'B5', 'C#6/Db6'], ['A1', 'A#1/Bb1', 'A1', 'B1'], ['D2', 'D#2/Eb2', 'D2', 'E2'], ['C#4/Db4', 'D4', 'C#4/Db4', 'D#4/Eb4'], ['F3', 'F#3/Gb3', 'F3', 'G3'], ['G#2/Ab2', 'A2', 'G#2/Ab2', 'A#2/Bb2'], ['B1', 'C2', 'B1', 'C#2/Db2'], ['C#3/Db3', 'D3', 'C#3/Db3', 'D#3/Eb3'], ['C2', 'C#2/Db2', 'C2', 'D2'], ['G4', 'G#4/Ab4', 'G4', 'A4 concert pitch'], ['C7', 'C#7/Db7', 'C7', 'D7'], ['D#2/Eb2', 'E2', 'D#2/Eb2', 'F2'], ['D5', 'D#5/Eb5', 'D5', 'E5'], ['A#5/Bb5', 'B5', 'A#5/Bb5', 'C6']]\n"
     ]
    }
   ],
   "source": [
    "import pandas as pd\n",
    "#Import the random library  \n",
    "import random \n",
    " \n",
    "# Generate a list of 20 keys out of 86 keys on the piano (88 total)\n",
    "# https://inspiredacoustics.com/en/MIDI_note_numbers_and_center_frequencies\n",
    "rand_list = []\n",
    "for i in range (20):\n",
    "    n=random.randint(22,107)\n",
    "    rand_list.append(n)\n",
    "print(rand_list)\n",
    "\n",
    "choice_list = [-1, 1]\n",
    "rand_choice1 = random.choice(choice_list)\n",
    "if rand_choice1 == -1:\n",
    "    rand_choice2 = random.choice([-2,1])\n",
    "else:\n",
    "    rand_choice2 = random.choice([-1,2])\n",
    "print(rand_choice1)\n",
    "print(rand_choice2)\n",
    "\n",
    "# create a list of list of 4 items\n",
    "# Item# 1: Pitch\n",
    "# Item 2: That pitch of randomly higher or lower by one or half step\n",
    "# Item 3: Pitch\n",
    "# Item 4: That pitch of randomly higher or lower by whole or half step\n",
    "\n",
    "rand_list_of_lists = []\n",
    "for j in range(len(rand_list)):\n",
    "    if j == 0:\n",
    "        rand_list_of_lists = [[rand_list[j], rand_list[j]+rand_choice1, rand_list[j], rand_list[j]+rand_choice2]]\n",
    "        print(rand_list_of_lists)\n",
    "    else:\n",
    "        rand_key = [rand_list[j], rand_list[j]+rand_choice1, rand_list[j], rand_list[j]+rand_choice2]\n",
    "        rand_list_of_lists.append(rand_key)\n",
    "print(rand_list_of_lists)\n",
    "\n",
    "key_dict = {'108':'C8','107':'B7','106':'A#7/Bb7','105':'A7','104':'G#7/Ab7','103':'G7','102':'F#7/Gb7','101':'F7','100':'E7','99':'D#7/Eb7','98':'D7','97':'C#7/Db7','96':'C7','95':'B6','94':'A#6/Bb6','93':'A6','92':'G#6/Ab6','91':'G6','90':'F#6/Gb6','89':'F6','88':'E6','87':'D#6/Eb6','86':'D6','85':'C#6/Db6','84':'C6','83':'B5','82':'A#5/Bb5','81':'A5','80':'G#5/Ab5','79':'G5','78':'F#5/Gb5','77':'F5','76':'E5','75':'D#5/Eb5','74':'D5','73':'C#5/Db5','72':'C5','71':'B4','70':'A#4/Bb4','69':'A4 concert pitch','68':'G#4/Ab4','67':'G4','66':'F#4/Gb4','65':'F4','64':'E4','63':'D#4/Eb4','62':'D4','61':'C#4/Db4','60':'C4 (middle C)','59':'B3','58':'A#3/Bb3','57':'A3','56':'G#3/Ab3','55':'G3','54':'F#3/Gb3','53':'F3','52':'E3','51':'D#3/Eb3','50':'D3','49':'C#3/Db3','48':'C3','47':'B2','46':'A#2/Bb2','45':'A2','44':'G#2/Ab2','43':'G2','42':'F#2/Gb2','41':'F2','40':'E2','39':'D#2/Eb2','38':'D2','37':'C#2/Db2','36':'C2','35':'B1','34':'A#1/Bb1','33':'A1','32':'G#1/Ab1','31':'G1','30':'F#1/Gb1','29':'F1','28':'E1','27':'D#1/Eb1','26':'D1','25':'C#1/Db1','24':'C1','23':'B0','22':'A#0/Bb0','21':'A0'}\n",
    "answer_key = []\n",
    "for k in range(len(rand_list_of_lists)):\n",
    "    one_set = [key_dict[key] for key in list(map(str,rand_list_of_lists[k]))]\n",
    "    answer_key.append(one_set)\n",
    "print(answer_key)\n"
   ]
  },
  {
   "cell_type": "code",
   "execution_count": 128,
   "metadata": {},
   "outputs": [
    {
     "name": "stdout",
     "output_type": "stream",
     "text": [
      "Done\n"
     ]
    }
   ],
   "source": [
    "from midiutil.MidiFile import MIDIFile\n",
    "import time\n",
    "# Get the current Unix timestamp\n",
    "current_timestamp = time.time()\n",
    "\n",
    "def generate_midi(list_of_list):\n",
    "    #create your MIDI object\n",
    "    mf = MIDIFile(1)     # only 1 track\n",
    "    track = 0   # the only track\n",
    "\n",
    "    time = 0    # start at the beginning\n",
    "    mf.addTrackName(track, time, \"Sample Track\")\n",
    "    mf.addTempo(track, time, 100)\n",
    "\n",
    "    # add some notes\n",
    "    channel = 0\n",
    "    volume = 100\n",
    "\n",
    "    time = 0\n",
    "    duration_note = 1\n",
    "    duration_set = 4\n",
    "\n",
    "    for i in range(len(list_of_list)):\n",
    "        for j in range(len(list_of_list[i])):\n",
    "            if time == 0:\n",
    "                pitch = list_of_list[i][j]\n",
    "                mf.addNote(track, channel, pitch, time, duration_note, volume)\n",
    "                time = time + duration_note\n",
    "            else:\n",
    "                pitch = list_of_list[i][j]\n",
    "                mf.addNote(track, channel, pitch, time, duration_note, volume)\n",
    "                time = time + duration_note + duration_note\n",
    "                if j == len(list_of_list[i]) - 1:\n",
    "                    time = time + duration_set\n",
    "\n",
    "    # write it to disk\n",
    "    with open(f\"output/output_{current_timestamp}.mid\", 'wb') as outf:\n",
    "        mf.writeFile(outf)\n",
    "    with open(f\"output/answer_key_{current_timestamp}.txt\", 'w') as file:\n",
    "        # Write each item in answer_key\n",
    "        for item in answer_key:\n",
    "            file.write(f\"{item}\\n\")\n",
    "    print(\"Done\")\n",
    "generate_midi(rand_list_of_lists)"
   ]
  }
 ],
 "metadata": {
  "kernelspec": {
   "display_name": "mypython39-midi",
   "language": "python",
   "name": "python3"
  },
  "language_info": {
   "codemirror_mode": {
    "name": "ipython",
    "version": 3
   },
   "file_extension": ".py",
   "mimetype": "text/x-python",
   "name": "python",
   "nbconvert_exporter": "python",
   "pygments_lexer": "ipython3",
   "version": "3.9.20"
  }
 },
 "nbformat": 4,
 "nbformat_minor": 2
}
