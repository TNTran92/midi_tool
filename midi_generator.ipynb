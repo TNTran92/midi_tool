{
 "cells": [
  {
   "cell_type": "code",
   "execution_count": 1,
   "metadata": {},
   "outputs": [],
   "source": [
    "import pandas as pd\n"
   ]
  },
  {
   "cell_type": "code",
   "execution_count": 2,
   "metadata": {},
   "outputs": [],
   "source": [
    "from midiutil.MidiFile import MIDIFile\n",
    "\n",
    "# create your MIDI object\n",
    "mf = MIDIFile(1)     # only 1 track\n",
    "track = 0   # the only track\n",
    "\n",
    "time = 0    # start at the beginning\n",
    "mf.addTrackName(track, time, \"Sample Track\")\n",
    "mf.addTempo(track, time, 120)\n",
    "\n",
    "# add some notes\n",
    "channel = 0\n",
    "volume = 100\n",
    "\n",
    "pitch = 60           # C4 (middle C)\n",
    "time = 0             # start on beat 0\n",
    "duration = 1         # 1 beat long\n",
    "mf.addNote(track, channel, pitch, time, duration, volume)\n",
    "\n",
    "pitch = 64           # E4\n",
    "time = 2             # start on beat 2\n",
    "duration = 1         # 1 beat long\n",
    "mf.addNote(track, channel, pitch, time, duration, volume)\n",
    "\n",
    "pitch = 67           # G4\n",
    "time = 4             # start on beat 4\n",
    "duration = 1         # 1 beat long\n",
    "mf.addNote(track, channel, pitch, time, duration, volume)\n",
    "\n",
    "# write it to disk\n",
    "with open(\"output/test.mid\", 'wb') as outf:\n",
    "    mf.writeFile(outf)"
   ]
  }
 ],
 "metadata": {
  "kernelspec": {
   "display_name": "mypython39-midi",
   "language": "python",
   "name": "python3"
  },
  "language_info": {
   "codemirror_mode": {
    "name": "ipython",
    "version": 3
   },
   "file_extension": ".py",
   "mimetype": "text/x-python",
   "name": "python",
   "nbconvert_exporter": "python",
   "pygments_lexer": "ipython3",
   "version": "3.9.20"
  }
 },
 "nbformat": 4,
 "nbformat_minor": 2
}
